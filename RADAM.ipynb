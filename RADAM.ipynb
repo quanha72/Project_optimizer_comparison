{
  "cells": [
    {
      "cell_type": "code",
      "source": [
        "import tensorflow as tf\n",
        "from tensorflow.python.eager import context\n",
        "from tensorflow.python.framework import ops\n",
        "from tensorflow.python.ops import control_flow_ops\n",
        "from tensorflow.python.ops import math_ops\n",
        "from tensorflow.python.ops import resource_variable_ops\n",
        "from tensorflow.python.ops import state_ops\n",
        "from tensorflow.python.training import optimizer\n",
        "\n",
        "class RAdamOptimizer(optimizer.Optimizer):\n",
        "\n",
        "    \"\"\"\n",
        "    RAdam optimizer : On The Variance Of The Adaptive Learning Rate And Beyond\n",
        "    https://arxiv.org/abs/1908.03265\n",
        "    \"\"\"\n",
        "\n",
        "    def __init__(self,\n",
        "                 learning_rate=0.001,\n",
        "                 beta1=0.9,\n",
        "                 beta2=0.999,\n",
        "                 epsilon=1e-8,\n",
        "                 weight_decay=0.,\n",
        "                 use_locking=False,\n",
        "                 name=\"RAdam\"):\n",
        "\n",
        "        super(RAdamOptimizer, self).__init__(use_locking, name)\n",
        "        self._lr = learning_rate\n",
        "        self._beta1 = beta1\n",
        "        self._beta2 = beta2\n",
        "        self._epsilon = epsilon\n",
        "        self._weight_decay = weight_decay\n",
        "\n",
        "        self._lr_t = None\n",
        "        self._step_t = None\n",
        "        self._beta1_t = None\n",
        "        self._beta2_t = None\n",
        "        self._epsilon_t = None\n",
        "        self._weight_decay_t = None\n",
        "\n",
        "    def _get_beta_accumulators(self):\n",
        "        with ops.init_scope():\n",
        "            if context.executing_eagerly():\n",
        "                graph = None\n",
        "            else:\n",
        "                graph = ops.get_default_graph()\n",
        "            return (self._get_non_slot_variable(\"step\", graph=graph),\n",
        "                    self._get_non_slot_variable(\"beta1_power\", graph=graph),\n",
        "                    self._get_non_slot_variable(\"beta2_power\", graph=graph))\n",
        "\n",
        "    def _create_slots(self, var_list):\n",
        "        first_var = min(var_list, key=lambda x: x.name)\n",
        "        self._create_non_slot_variable(initial_value=1.0, name=\"step\", colocate_with=first_var)\n",
        "        self._create_non_slot_variable(initial_value=self._beta1, name=\"beta1_power\", colocate_with=first_var)\n",
        "        self._create_non_slot_variable(initial_value=self._beta2, name=\"beta2_power\", colocate_with=first_var)\n",
        "\n",
        "        for v in var_list:\n",
        "            self._zeros_slot(v, \"m\", self._name)\n",
        "            self._zeros_slot(v, \"v\", self._name)\n",
        "\n",
        "    def _prepare(self):\n",
        "        lr = self._call_if_callable(self._lr)\n",
        "        beta1 = self._call_if_callable(self._beta1)\n",
        "        beta2 = self._call_if_callable(self._beta2)\n",
        "        epsilon = self._call_if_callable(self._epsilon)\n",
        "        weight_decay = self._call_if_callable(self._weight_decay)\n",
        "\n",
        "        self._lr_t = ops.convert_to_tensor(lr, name=\"learning_rate\")\n",
        "        self._beta1_t = ops.convert_to_tensor(beta1, name=\"beta1\")\n",
        "        self._beta2_t = ops.convert_to_tensor(beta2, name=\"beta2\")\n",
        "        self._epsilon_t = ops.convert_to_tensor(epsilon, name=\"epsilon\")\n",
        "        self._weight_decay_t = ops.convert_to_tensor(weight_decay, name=\"weight_decay\")\n",
        "\n",
        "    def _apply_dense(self, grad, var):\n",
        "        return self._resource_apply_dense(grad, var)\n",
        "\n",
        "    def _resource_apply_dense(self, grad, var):\n",
        "        step, beta1_power, beta2_power = self._get_beta_accumulators()\n",
        "        step = math_ops.cast(step, var.dtype.base_dtype)\n",
        "        beta1_power = math_ops.cast(beta1_power, var.dtype.base_dtype)\n",
        "        beta2_power = math_ops.cast(beta2_power, var.dtype.base_dtype)\n",
        "        lr_t = math_ops.cast(self._lr_t, var.dtype.base_dtype)\n",
        "\n",
        "        beta1_t = math_ops.cast(self._beta1_t, var.dtype.base_dtype)\n",
        "        beta2_t = math_ops.cast(self._beta2_t, var.dtype.base_dtype)\n",
        "        epsilon_t = math_ops.cast(self._epsilon_t, var.dtype.base_dtype)\n",
        "\n",
        "        sma_inf = 2.0 / (1.0 - beta2_t) - 1.0\n",
        "        sma_t = sma_inf - 2.0 * step * beta2_power / (1.0 - beta2_power)\n",
        "\n",
        "        m = self.get_slot(var, \"m\")\n",
        "        m_t = state_ops.assign(m, beta1_t * m + (1.0 - beta1_t) * grad, use_locking=self._use_locking)\n",
        "        mhat_t = m_t / (1.0 - beta1_power)\n",
        "\n",
        "        v = self.get_slot(var, \"v\")\n",
        "        v_t = state_ops.assign(v, beta2_t * v + (1.0 - beta2_t) * math_ops.square(grad), use_locking=self._use_locking)\n",
        "        vhat_t = math_ops.sqrt(v_t / ((1.0 - beta2_power) + epsilon_t))\n",
        "\n",
        "        r_t = math_ops.sqrt( ((sma_t - 4.0) * (sma_t - 2.0) * sma_inf) / ((sma_inf - 4.0) * (sma_inf - 2.0) * sma_t) )\n",
        "\n",
        "        var_t = tf.cond(sma_t >= 5.0, lambda : r_t * mhat_t / (vhat_t + epsilon_t), lambda : mhat_t)\n",
        "\n",
        "        if self._weight_decay > 0.0:\n",
        "            var_t += math_ops.cast(self._weight_decay_t, var.dtype.base_dtype) * var\n",
        "\n",
        "        var_update = state_ops.assign_sub(var, lr_t * var_t, use_locking=self._use_locking)\n",
        "\n",
        "        updates = [var_update, m_t, v_t]\n",
        "\n",
        "        return control_flow_ops.group(*updates)\n",
        "\n",
        "    def _apply_sparse_shared(self, grad, var, indices, scatter_add):\n",
        "        step, beta1_power, beta2_power = self._get_beta_accumulators()\n",
        "        step = math_ops.cast(step, var.dtype.base_dtype)\n",
        "        beta1_power = math_ops.cast(beta1_power, var.dtype.base_dtype)\n",
        "        beta2_power = math_ops.cast(beta2_power, var.dtype.base_dtype)\n",
        "        lr_t = math_ops.cast(self._lr_t, var.dtype.base_dtype)\n",
        "\n",
        "        beta1_t = math_ops.cast(self._beta1_t, var.dtype.base_dtype)\n",
        "        beta2_t = math_ops.cast(self._beta2_t, var.dtype.base_dtype)\n",
        "        epsilon_t = math_ops.cast(self._epsilon_t, var.dtype.base_dtype)\n",
        "\n",
        "        sma_inf = 2.0 / (1.0 - beta2_t) - 1.0\n",
        "        sma_t = sma_inf - 2.0 * step * beta2_power / (1.0 - beta2_power)\n",
        "\n",
        "        m = self.get_slot(var, \"m\")\n",
        "        m_scaled_g_values = grad * (1 - beta1_t)\n",
        "        m_t = state_ops.assign(m, m * beta1_t, use_locking=self._use_locking)\n",
        "\n",
        "        with ops.control_dependencies([m_t]):\n",
        "            m_t = scatter_add(m, indices, m_scaled_g_values)\n",
        "\n",
        "        mhat_t = m_t / (1.0 - beta1_power)\n",
        "\n",
        "        v = self.get_slot(var, \"v\")\n",
        "        v_scaled_g_values = (grad * grad) * (1 - beta2_t)\n",
        "        v_t = state_ops.assign(v, v * beta2_t, use_locking=self._use_locking)\n",
        "\n",
        "        with ops.control_dependencies([v_t]):\n",
        "            v_t = scatter_add(v, indices, v_scaled_g_values)\n",
        "\n",
        "        vhat_t = math_ops.sqrt(v_t / (1.0 - beta2_power) + epsilon_t)\n",
        "\n",
        "        r_t = math_ops.sqrt( ((sma_t - 4.0) * (sma_t - 2.0) * sma_inf) / ((sma_inf - 4.0) * (sma_inf - 2.0) * sma_t) )\n",
        "\n",
        "        var_t = tf.cond(sma_t >= 5.0, lambda : r_t * mhat_t / (vhat_t + epsilon_t), lambda : mhat_t)\n",
        "\n",
        "        if self._weight_decay > 0.0:\n",
        "            var_t += math_ops.cast(self._weight_decay_t, var.dtype.base_dtype) * var\n",
        "\n",
        "        var_update = state_ops.assign_sub(var, lr_t * var_t, use_locking=self._use_locking)\n",
        "\n",
        "        updates = [var_update, m_t, v_t]\n",
        "\n",
        "        return control_flow_ops.group(*updates)\n",
        "\n",
        "    def _apply_sparse(self, grad, var):\n",
        "        return self._apply_sparse_shared(\n",
        "            grad.values,\n",
        "            var,\n",
        "            grad.indices,\n",
        "            lambda x, i, v: state_ops.scatter_add(x, i, v, use_locking=self._use_locking))\n",
        "\n",
        "    def _resource_scatter_add(self, x, i, v):\n",
        "        with ops.control_dependencies([resource_variable_ops.resource_scatter_add(x.handle, i, v)]):\n",
        "            return x.value()\n",
        "\n",
        "    def _resource_apply_sparse(self, grad, var, indices):\n",
        "        return self._apply_sparse_shared(grad, var, indices, self._resource_scatter_add)\n",
        "\n",
        "    def _finish(self, update_ops, name_scope):\n",
        "        with ops.control_dependencies(update_ops):\n",
        "            step, beta1_power, beta2_power = self._get_beta_accumulators()\n",
        "            with ops.colocate_with(beta1_power):\n",
        "                update_step = step.assign(step + 1.0, use_locking=self._use_locking)\n",
        "                update_beta1 = beta1_power.assign(beta1_power * self._beta1_t, use_locking=self._use_locking)\n",
        "                update_beta2 = beta2_power.assign(beta2_power * self._beta2_t, use_locking=self._use_locking)\n",
        "        return control_flow_ops.group(*update_ops + [update_step, update_beta1, update_beta2], name=name_scope)"
      ],
      "metadata": {
        "id": "5An0Ir47aeLX"
      },
      "execution_count": 5,
      "outputs": []
    },
    {
      "cell_type": "markdown",
      "metadata": {
        "id": "1nn071CE7cVJ"
      },
      "source": [
        "#### 1. Load bộ dữ liệu (CIFAR10)"
      ]
    },
    {
      "cell_type": "code",
      "execution_count": 6,
      "metadata": {
        "ExecuteTime": {
          "end_time": "2021-12-24T16:55:51.077825Z",
          "start_time": "2021-12-24T16:55:47.329085Z"
        },
        "id": "groXfLSg7cVK",
        "colab": {
          "base_uri": "https://localhost:8080/"
        },
        "outputId": "b2196241-f6ba-4285-8d36-3ef6fb4c7569"
      },
      "outputs": [
        {
          "output_type": "stream",
          "name": "stdout",
          "text": [
            "Downloading data from https://www.cs.toronto.edu/~kriz/cifar-10-python.tar.gz\n",
            "170500096/170498071 [==============================] - 11s 0us/step\n",
            "170508288/170498071 [==============================] - 11s 0us/step\n"
          ]
        }
      ],
      "source": [
        "from keras.datasets.cifar10 import load_data\n",
        "\n",
        "(X_train, y_train), (X_test, y_test) = load_data()"
      ]
    },
    {
      "cell_type": "markdown",
      "metadata": {
        "id": "gh6YtWmP7l5B"
      },
      "source": [
        "#### 2. Chuẩn bị dữ liệu"
      ]
    },
    {
      "cell_type": "code",
      "execution_count": 7,
      "metadata": {
        "ExecuteTime": {
          "end_time": "2021-12-24T16:55:51.570010Z",
          "start_time": "2021-12-24T16:55:51.079313Z"
        },
        "id": "-6HYM8ht7l5B"
      },
      "outputs": [],
      "source": [
        "from tensorflow.keras.utils import to_categorical\n",
        "\n",
        "X_train_new = X_train/255.0\n",
        "\n",
        "X_test_new = X_test/255.0\n",
        "\n",
        "y_train = to_categorical(y_train, num_classes = 10)\n",
        "y_test = to_categorical(y_test, num_classes = 10)"
      ]
    },
    {
      "cell_type": "markdown",
      "metadata": {
        "id": "y0VyGiVi76PK"
      },
      "source": [
        "#### 3. Xây dựng mô hình"
      ]
    },
    {
      "cell_type": "code",
      "source": [
        "!pip install keras_radam"
      ],
      "metadata": {
        "colab": {
          "base_uri": "https://localhost:8080/"
        },
        "id": "3xAgXfc7yy9V",
        "outputId": "e3b421a1-ced5-4433-f9e3-6a9d56b1de07"
      },
      "execution_count": 9,
      "outputs": [
        {
          "output_type": "stream",
          "name": "stdout",
          "text": [
            "Collecting keras_radam\n",
            "  Downloading keras-radam-0.15.0.tar.gz (11 kB)\n",
            "Requirement already satisfied: numpy in /usr/local/lib/python3.7/dist-packages (from keras_radam) (1.19.5)\n",
            "Requirement already satisfied: Keras in /usr/local/lib/python3.7/dist-packages (from keras_radam) (2.7.0)\n",
            "Building wheels for collected packages: keras-radam\n",
            "  Building wheel for keras-radam (setup.py) ... \u001b[?25l\u001b[?25hdone\n",
            "  Created wheel for keras-radam: filename=keras_radam-0.15.0-py3-none-any.whl size=14684 sha256=090317602d25f773793a5c70e590bd127324a93c8d0821720dfeacac1d5eb615\n",
            "  Stored in directory: /root/.cache/pip/wheels/23/6a/5f/d674f3b7b4d504b03148abd675e3703ba00c31763c04a2fc20\n",
            "Successfully built keras-radam\n",
            "Installing collected packages: keras-radam\n",
            "Successfully installed keras-radam-0.15.0\n"
          ]
        }
      ]
    },
    {
      "cell_type": "code",
      "execution_count": 10,
      "metadata": {
        "ExecuteTime": {
          "end_time": "2021-12-24T16:55:56.679609Z",
          "start_time": "2021-12-24T16:55:55.934064Z"
        },
        "id": "SCU1Ax-z1RpD"
      },
      "outputs": [],
      "source": [
        "from tensorflow.keras.models import Sequential\n",
        "from tensorflow.keras.layers import Dense, Activation, Conv2D, MaxPooling2D, Flatten\n",
        "import keras_radam\n",
        "from tensorflow.keras.losses import CategoricalCrossentropy\n",
        "\n",
        "\n",
        "EPOCHS = 25\n",
        "BATCH_SIZE = 128\n",
        "\n",
        "model = Sequential()\n",
        "model.add(Conv2D(32, (3, 3), activation='relu', input_shape=(32, 32, 3)))\n",
        "model.add(MaxPooling2D((2, 2)))\n",
        "model.add(Conv2D(64, (3, 3), activation='relu'))\n",
        "model.add(MaxPooling2D((2, 2)))\n",
        "model.add(Conv2D(64, (3, 3), activation='relu'))\n",
        "model.add(Flatten())\n",
        "model.add(Dense(1024, activation='relu'))\n",
        "model.add(Dense(10, activation='softmax'))\n"
      ]
    },
    {
      "cell_type": "code",
      "execution_count": 11,
      "metadata": {
        "ExecuteTime": {
          "end_time": "2021-12-24T16:55:58.739462Z",
          "start_time": "2021-12-24T16:55:58.734007Z"
        },
        "id": "2F6yuVZPQuw2"
      },
      "outputs": [],
      "source": [
        "loss = CategoricalCrossentropy()\n",
        "optimizer = RAdamOptimizer()"
      ]
    },
    {
      "cell_type": "code",
      "execution_count": 12,
      "metadata": {
        "ExecuteTime": {
          "end_time": "2021-12-24T16:56:00.907647Z",
          "start_time": "2021-12-24T16:56:00.243388Z"
        },
        "id": "e4P8kYlg1i8h"
      },
      "outputs": [],
      "source": [
        "model.compile(optimizer=optimizer, loss=loss, metrics=\"accuracy\")"
      ]
    },
    {
      "cell_type": "code",
      "execution_count": 13,
      "metadata": {
        "colab": {
          "base_uri": "https://localhost:8080/"
        },
        "id": "UpchHCvj1kEg",
        "outputId": "7d0371b4-1147-4757-abfe-1d822468eafd"
      },
      "outputs": [
        {
          "output_type": "stream",
          "name": "stdout",
          "text": [
            "Epoch 1/25\n",
            "391/391 [==============================] - 13s 9ms/step - loss: 1.7487 - accuracy: 0.3610 - val_loss: 1.4202 - val_accuracy: 0.4779\n",
            "Epoch 2/25\n",
            "391/391 [==============================] - 3s 8ms/step - loss: 1.3434 - accuracy: 0.5195 - val_loss: 1.2672 - val_accuracy: 0.5429\n",
            "Epoch 3/25\n",
            "391/391 [==============================] - 3s 8ms/step - loss: 1.1590 - accuracy: 0.5902 - val_loss: 1.1749 - val_accuracy: 0.5794\n",
            "Epoch 4/25\n",
            "391/391 [==============================] - 3s 8ms/step - loss: 1.0307 - accuracy: 0.6391 - val_loss: 1.0254 - val_accuracy: 0.6394\n",
            "Epoch 5/25\n",
            "391/391 [==============================] - 3s 8ms/step - loss: 0.9376 - accuracy: 0.6707 - val_loss: 0.9446 - val_accuracy: 0.6698\n",
            "Epoch 6/25\n",
            "391/391 [==============================] - 3s 8ms/step - loss: 0.8447 - accuracy: 0.7063 - val_loss: 0.8746 - val_accuracy: 0.6951\n",
            "Epoch 7/25\n",
            "391/391 [==============================] - 3s 8ms/step - loss: 0.7679 - accuracy: 0.7322 - val_loss: 0.8479 - val_accuracy: 0.7022\n",
            "Epoch 8/25\n",
            "391/391 [==============================] - 3s 8ms/step - loss: 0.6971 - accuracy: 0.7563 - val_loss: 0.8684 - val_accuracy: 0.7010\n",
            "Epoch 9/25\n",
            "391/391 [==============================] - 3s 8ms/step - loss: 0.6230 - accuracy: 0.7822 - val_loss: 0.8816 - val_accuracy: 0.7034\n",
            "Epoch 10/25\n",
            "391/391 [==============================] - 3s 8ms/step - loss: 0.5555 - accuracy: 0.8087 - val_loss: 0.8279 - val_accuracy: 0.7263\n",
            "Epoch 11/25\n",
            "391/391 [==============================] - 3s 8ms/step - loss: 0.4803 - accuracy: 0.8330 - val_loss: 0.8619 - val_accuracy: 0.7160\n",
            "Epoch 12/25\n",
            "391/391 [==============================] - 3s 8ms/step - loss: 0.4094 - accuracy: 0.8565 - val_loss: 0.8348 - val_accuracy: 0.7311\n",
            "Epoch 13/25\n",
            "391/391 [==============================] - 3s 8ms/step - loss: 0.3363 - accuracy: 0.8825 - val_loss: 0.9646 - val_accuracy: 0.7202\n",
            "Epoch 14/25\n",
            "391/391 [==============================] - 3s 8ms/step - loss: 0.2668 - accuracy: 0.9075 - val_loss: 0.9867 - val_accuracy: 0.7219\n",
            "Epoch 15/25\n",
            "391/391 [==============================] - 3s 8ms/step - loss: 0.2119 - accuracy: 0.9273 - val_loss: 1.0278 - val_accuracy: 0.7337\n",
            "Epoch 16/25\n",
            "391/391 [==============================] - 3s 8ms/step - loss: 0.1677 - accuracy: 0.9433 - val_loss: 1.1082 - val_accuracy: 0.7252\n",
            "Epoch 17/25\n",
            "391/391 [==============================] - 3s 8ms/step - loss: 0.1318 - accuracy: 0.9556 - val_loss: 1.2225 - val_accuracy: 0.7266\n",
            "Epoch 18/25\n",
            "391/391 [==============================] - 3s 8ms/step - loss: 0.1108 - accuracy: 0.9619 - val_loss: 1.3082 - val_accuracy: 0.7227\n",
            "Epoch 19/25\n",
            "391/391 [==============================] - 3s 8ms/step - loss: 0.0948 - accuracy: 0.9670 - val_loss: 1.4321 - val_accuracy: 0.7144\n",
            "Epoch 20/25\n",
            "391/391 [==============================] - 3s 8ms/step - loss: 0.0755 - accuracy: 0.9747 - val_loss: 1.5187 - val_accuracy: 0.7109\n",
            "Epoch 21/25\n",
            "391/391 [==============================] - 3s 8ms/step - loss: 0.0772 - accuracy: 0.9739 - val_loss: 1.6042 - val_accuracy: 0.7274\n",
            "Epoch 22/25\n",
            "391/391 [==============================] - 3s 8ms/step - loss: 0.0846 - accuracy: 0.9706 - val_loss: 1.5543 - val_accuracy: 0.7218\n",
            "Epoch 23/25\n",
            "391/391 [==============================] - 3s 8ms/step - loss: 0.0721 - accuracy: 0.9747 - val_loss: 1.7611 - val_accuracy: 0.7183\n",
            "Epoch 24/25\n",
            "391/391 [==============================] - 3s 8ms/step - loss: 0.0638 - accuracy: 0.9778 - val_loss: 1.6895 - val_accuracy: 0.7200\n",
            "Epoch 25/25\n",
            "391/391 [==============================] - 3s 8ms/step - loss: 0.0728 - accuracy: 0.9752 - val_loss: 1.7819 - val_accuracy: 0.7071\n",
            "training time =  87.58001923561096\n"
          ]
        }
      ],
      "source": [
        "import time\n",
        "start = time.time()\n",
        "history = model.fit(X_train_new, y_train, batch_size=BATCH_SIZE, epochs=EPOCHS, validation_data=(X_test_new, y_test))\n",
        "print('training time = ',time.time()-start)"
      ]
    },
    {
      "cell_type": "markdown",
      "metadata": {
        "id": "My5MVg5ZDhLC"
      },
      "source": [
        "acc"
      ]
    },
    {
      "cell_type": "code",
      "execution_count": null,
      "metadata": {
        "colab": {
          "base_uri": "https://localhost:8080/",
          "height": 297
        },
        "id": "AAi8qzAz83DY",
        "outputId": "4d53fa6c-75be-4d61-c6f2-12457ab58e67"
      },
      "outputs": [
        {
          "output_type": "execute_result",
          "data": {
            "text/plain": [
              "<matplotlib.legend.Legend at 0x7fc7876f59d0>"
            ]
          },
          "metadata": {},
          "execution_count": 8
        },
        {
          "output_type": "display_data",
          "data": {
            "image/png": "[encoded data removed]",
            "text/plain": [
              "<Figure size 432x288 with 1 Axes>"
            ]
          },
          "metadata": {
            "needs_background": "light"
          }
        }
      ],
      "source": [
        "import matplotlib.pyplot as plt\n",
        "\n",
        "plt.plot(history.history['accuracy'], label='accuracy')\n",
        "plt.xlabel('Epoch')\n",
        "plt.ylabel('Accuracy')\n",
        "plt.legend(loc='lower right')"
      ]
    },
    {
      "cell_type": "markdown",
      "metadata": {
        "id": "_E1gxsIhDb3p"
      },
      "source": [
        "val_acc"
      ]
    },
    {
      "cell_type": "code",
      "execution_count": null,
      "metadata": {
        "id": "fltc3Z2IDJ7N",
        "colab": {
          "base_uri": "https://localhost:8080/",
          "height": 296
        },
        "outputId": "dad7fbb1-52ff-404f-e9d8-ec6117bddfd2"
      },
      "outputs": [
        {
          "output_type": "execute_result",
          "data": {
            "text/plain": [
              "<matplotlib.legend.Legend at 0x7fc7876b9a90>"
            ]
          },
          "metadata": {},
          "execution_count": 9
        },
        {
          "output_type": "display_data",
          "data": {
            "image/png": "[encoded data removed]",
            "text/plain": [
              "<Figure size 432x288 with 1 Axes>"
            ]
          },
          "metadata": {
            "needs_background": "light"
          }
        }
      ],
      "source": [
        "import matplotlib.pyplot as plt\n",
        "\n",
        "plt.plot(history.history['val_accuracy'], label = 'val_accuracy')\n",
        "plt.xlabel('Epoch')\n",
        "plt.ylabel('Accuracy')\n",
        "plt.legend(loc='lower right')"
      ]
    },
    {
      "cell_type": "markdown",
      "metadata": {
        "id": "YEES-u4XDeN_"
      },
      "source": [
        "loss"
      ]
    },
    {
      "cell_type": "code",
      "execution_count": null,
      "metadata": {
        "colab": {
          "base_uri": "https://localhost:8080/",
          "height": 296
        },
        "id": "F88cY8Z-84HM",
        "outputId": "4a8d42cf-1525-44d8-ad43-a1b6f58251af"
      },
      "outputs": [
        {
          "output_type": "execute_result",
          "data": {
            "text/plain": [
              "<matplotlib.legend.Legend at 0x7fc7876b9990>"
            ]
          },
          "metadata": {},
          "execution_count": 10
        },
        {
          "output_type": "display_data",
          "data": {
            "image/png": "[encoded data removed]",
            "text/plain": [
              "<Figure size 432x288 with 1 Axes>"
            ]
          },
          "metadata": {
            "needs_background": "light"
          }
        }
      ],
      "source": [
        "plt.plot(history.history['loss'], label='loss')\n",
        "plt.xlabel('Epoch')\n",
        "plt.ylabel('Loss')\n",
        "plt.legend(loc='lower right')"
      ]
    },
    {
      "cell_type": "markdown",
      "metadata": {
        "id": "N7bxkjotDmFE"
      },
      "source": [
        "val_loss"
      ]
    },
    {
      "cell_type": "code",
      "execution_count": null,
      "metadata": {
        "id": "VMly-hjQDkXf",
        "colab": {
          "base_uri": "https://localhost:8080/",
          "height": 296
        },
        "outputId": "2f3f62bc-cca2-4fda-f2d2-20fcb78e7079"
      },
      "outputs": [
        {
          "output_type": "execute_result",
          "data": {
            "text/plain": [
              "<matplotlib.legend.Legend at 0x7fc787115b90>"
            ]
          },
          "metadata": {},
          "execution_count": 11
        },
        {
          "output_type": "display_data",
          "data": {
            "image/png": "[encoded data removed]",
            "text/plain": [
              "<Figure size 432x288 with 1 Axes>"
            ]
          },
          "metadata": {
            "needs_background": "light"
          }
        }
      ],
      "source": [
        "plt.plot(history.history['val_loss'], label = 'val_loss')\n",
        "plt.xlabel('Epoch')\n",
        "plt.ylabel('Loss')\n",
        "plt.legend(loc='lower right')"
      ]
    },
    {
      "cell_type": "markdown",
      "metadata": {
        "id": "F-UyuMgX_pya"
      },
      "source": [
        "#### ResNet50"
      ]
    },
    {
      "cell_type": "code",
      "source": [
        "import cv2\n",
        "import numpy as np\n",
        "import os\n",
        "from keras.preprocessing.image import ImageDataGenerator\n",
        "from keras import backend as K\n",
        "import keras\n",
        "from keras.models import Sequential, Model,load_model\n",
        "from tensorflow.keras.optimizers import SGD\n",
        "from keras.callbacks import EarlyStopping,ModelCheckpoint\n",
        "from google.colab.patches import cv2_imshow\n",
        "from keras.layers import Input, Add, Dense, Activation, ZeroPadding2D, BatchNormalization, Flatten, Conv2D, AveragePooling2D, MaxPooling2D, GlobalMaxPooling2D,MaxPool2D\n",
        "from keras.preprocessing import image\n",
        "from keras.initializers import glorot_uniform"
      ],
      "metadata": {
        "id": "Du1FV_q3rKBH"
      },
      "execution_count": 4,
      "outputs": []
    },
    {
      "cell_type": "code",
      "source": [
        "def identity_block(X, f, filters, stage, block):\n",
        "   \n",
        "    conv_name_base = 'res' + str(stage) + block + '_branch'\n",
        "    bn_name_base = 'bn' + str(stage) + block + '_branch'\n",
        "    F1, F2, F3 = filters\n",
        "\n",
        "    X_shortcut = X\n",
        "   \n",
        "    X = Conv2D(filters=F1, kernel_size=(1, 1), strides=(1, 1), padding='valid', name=conv_name_base + '2a', kernel_initializer=glorot_uniform(seed=0))(X)\n",
        "    X = BatchNormalization(axis=3, name=bn_name_base + '2a')(X)\n",
        "    X = Activation('relu')(X)\n",
        "\n",
        "    X = Conv2D(filters=F2, kernel_size=(f, f), strides=(1, 1), padding='same', name=conv_name_base + '2b', kernel_initializer=glorot_uniform(seed=0))(X)\n",
        "    X = BatchNormalization(axis=3, name=bn_name_base + '2b')(X)\n",
        "    X = Activation('relu')(X)\n",
        "\n",
        "    X = Conv2D(filters=F3, kernel_size=(1, 1), strides=(1, 1), padding='valid', name=conv_name_base + '2c', kernel_initializer=glorot_uniform(seed=0))(X)\n",
        "    X = BatchNormalization(axis=3, name=bn_name_base + '2c')(X)\n",
        "\n",
        "    X = Add()([X, X_shortcut])# SKIP Connection\n",
        "    X = Activation('relu')(X)\n",
        "\n",
        "    return X"
      ],
      "metadata": {
        "id": "flsPUv-MrQsK"
      },
      "execution_count": 5,
      "outputs": []
    },
    {
      "cell_type": "code",
      "source": [
        "def convolutional_block(X, f, filters, stage, block, s=2):\n",
        "   \n",
        "    conv_name_base = 'res' + str(stage) + block + '_branch'\n",
        "    bn_name_base = 'bn' + str(stage) + block + '_branch'\n",
        "\n",
        "    F1, F2, F3 = filters\n",
        "\n",
        "    X_shortcut = X\n",
        "\n",
        "    X = Conv2D(filters=F1, kernel_size=(1, 1), strides=(s, s), padding='valid', name=conv_name_base + '2a', kernel_initializer=glorot_uniform(seed=0))(X)\n",
        "    X = BatchNormalization(axis=3, name=bn_name_base + '2a')(X)\n",
        "    X = Activation('relu')(X)\n",
        "\n",
        "    X = Conv2D(filters=F2, kernel_size=(f, f), strides=(1, 1), padding='same', name=conv_name_base + '2b', kernel_initializer=glorot_uniform(seed=0))(X)\n",
        "    X = BatchNormalization(axis=3, name=bn_name_base + '2b')(X)\n",
        "    X = Activation('relu')(X)\n",
        "\n",
        "    X = Conv2D(filters=F3, kernel_size=(1, 1), strides=(1, 1), padding='valid', name=conv_name_base + '2c', kernel_initializer=glorot_uniform(seed=0))(X)\n",
        "    X = BatchNormalization(axis=3, name=bn_name_base + '2c')(X)\n",
        "\n",
        "    X_shortcut = Conv2D(filters=F3, kernel_size=(1, 1), strides=(s, s), padding='valid', name=conv_name_base + '1', kernel_initializer=glorot_uniform(seed=0))(X_shortcut)\n",
        "    X_shortcut = BatchNormalization(axis=3, name=bn_name_base + '1')(X_shortcut)\n",
        "\n",
        "    X = Add()([X, X_shortcut])\n",
        "    X = Activation('relu')(X)\n",
        "\n",
        "    return X"
      ],
      "metadata": {
        "id": "9F3EZOQtrTfU"
      },
      "execution_count": 6,
      "outputs": []
    },
    {
      "cell_type": "code",
      "source": [
        "def ResNet50(input_shape=(224, 224, 3)):\n",
        "\n",
        "    X_input = Input(input_shape)\n",
        "\n",
        "    X = ZeroPadding2D((3, 3))(X_input)\n",
        "\n",
        "    X = Conv2D(64, (7, 7), strides=(2, 2), name='conv1', kernel_initializer=glorot_uniform(seed=0))(X)\n",
        "    X = BatchNormalization(axis=3, name='bn_conv1')(X)\n",
        "    X = Activation('relu')(X)\n",
        "    X = MaxPooling2D((3, 3), strides=(2, 2))(X)\n",
        "\n",
        "    X = convolutional_block(X, f=3, filters=[64, 64, 256], stage=2, block='a', s=1)\n",
        "    X = identity_block(X, 3, [64, 64, 256], stage=2, block='b')\n",
        "    X = identity_block(X, 3, [64, 64, 256], stage=2, block='c')\n",
        "\n",
        "\n",
        "    X = convolutional_block(X, f=3, filters=[128, 128, 512], stage=3, block='a', s=2)\n",
        "    X = identity_block(X, 3, [128, 128, 512], stage=3, block='b')\n",
        "    X = identity_block(X, 3, [128, 128, 512], stage=3, block='c')\n",
        "    X = identity_block(X, 3, [128, 128, 512], stage=3, block='d')\n",
        "\n",
        "    X = convolutional_block(X, f=3, filters=[256, 256, 1024], stage=4, block='a', s=2)\n",
        "    X = identity_block(X, 3, [256, 256, 1024], stage=4, block='b')\n",
        "    X = identity_block(X, 3, [256, 256, 1024], stage=4, block='c')\n",
        "    X = identity_block(X, 3, [256, 256, 1024], stage=4, block='d')\n",
        "    X = identity_block(X, 3, [256, 256, 1024], stage=4, block='e')\n",
        "    X = identity_block(X, 3, [256, 256, 1024], stage=4, block='f')\n",
        "\n",
        "    X = X = convolutional_block(X, f=3, filters=[512, 512, 2048], stage=5, block='a', s=2)\n",
        "    X = identity_block(X, 3, [512, 512, 2048], stage=5, block='b')\n",
        "    X = identity_block(X, 3, [512, 512, 2048], stage=5, block='c')\n",
        "\n",
        "    X = AveragePooling2D(pool_size=(2, 2), padding='same')(X)\n",
        "    \n",
        "    model = Model(inputs=X_input, outputs=X, name='ResNet50')\n",
        "\n",
        "    return model"
      ],
      "metadata": {
        "id": "xNOmTDyyrVVL"
      },
      "execution_count": 7,
      "outputs": []
    },
    {
      "cell_type": "code",
      "source": [
        "base_model = ResNet50(input_shape=(32, 32, 3))\n",
        "headModel = base_model.output\n",
        "headModel = Flatten()(headModel)\n",
        "headModel=Dense(256, activation='relu', name='fc1',kernel_initializer=glorot_uniform(seed=0))(headModel)\n",
        "headModel=Dense(128, activation='relu', name='fc2',kernel_initializer=glorot_uniform(seed=0))(headModel)\n",
        "headModel = Dense(10,activation='sigmoid', name='fc3',kernel_initializer=glorot_uniform(seed=0))(headModel)"
      ],
      "metadata": {
        "id": "uJY_w8o1rXCd"
      },
      "execution_count": 8,
      "outputs": []
    },
    {
      "cell_type": "code",
      "source": [
        "model_resnet = Model(inputs=base_model.input, outputs=headModel)\n"
      ],
      "metadata": {
        "id": "GhsUfewHrYzU"
      },
      "execution_count": 9,
      "outputs": []
    },
    {
      "cell_type": "code",
      "source": [
        "from tensorflow.keras.losses import CategoricalCrossentropy\n",
        "\n",
        "loss = CategoricalCrossentropy()\n",
        "optimizer = RAdamOptimizer(learning_rate = 1e-3)"
      ],
      "metadata": {
        "id": "-2HYhDnQra2I"
      },
      "execution_count": 13,
      "outputs": []
    },
    {
      "cell_type": "code",
      "source": [
        "model_resnet.compile(optimizer=optimizer, loss=loss, metrics=\"accuracy\")"
      ],
      "metadata": {
        "id": "Pi7gr_6wrk1t"
      },
      "execution_count": 14,
      "outputs": []
    },
    {
      "cell_type": "code",
      "source": [
        "history_resnet50 = model_resnet.fit(X_train_new, y_train, batch_size=128, epochs=10, validation_data=(X_test_new, y_test))"
      ],
      "metadata": {
        "colab": {
          "base_uri": "https://localhost:8080/"
        },
        "id": "x8aQkMrJrve9",
        "outputId": "8628a305-59af-487f-b823-280fb2fb8770"
      },
      "execution_count": 17,
      "outputs": [
        {
          "output_type": "stream",
          "name": "stdout",
          "text": [
            "Epoch 1/10\n",
            "391/391 [==============================] - 70s 96ms/step - loss: 2.0579 - accuracy: 0.2509 - val_loss: 2.1625 - val_accuracy: 0.2378\n",
            "Epoch 2/10\n",
            "391/391 [==============================] - 37s 95ms/step - loss: 1.6462 - accuracy: 0.4005 - val_loss: 1.6193 - val_accuracy: 0.4198\n",
            "Epoch 3/10\n",
            "391/391 [==============================] - 36s 92ms/step - loss: 1.4361 - accuracy: 0.4834 - val_loss: 1.4921 - val_accuracy: 0.4674\n",
            "Epoch 4/10\n",
            "391/391 [==============================] - 37s 95ms/step - loss: 1.2955 - accuracy: 0.5358 - val_loss: 1.4039 - val_accuracy: 0.5103\n",
            "Epoch 5/10\n",
            "391/391 [==============================] - 36s 92ms/step - loss: 1.1809 - accuracy: 0.5805 - val_loss: 1.3643 - val_accuracy: 0.5324\n",
            "Epoch 6/10\n",
            "391/391 [==============================] - 36s 92ms/step - loss: 1.0850 - accuracy: 0.6143 - val_loss: 1.4504 - val_accuracy: 0.5114\n",
            "Epoch 7/10\n",
            "391/391 [==============================] - 36s 92ms/step - loss: 0.9986 - accuracy: 0.6515 - val_loss: 1.2816 - val_accuracy: 0.5650\n",
            "Epoch 8/10\n",
            "391/391 [==============================] - 37s 96ms/step - loss: 0.9142 - accuracy: 0.6797 - val_loss: 1.3175 - val_accuracy: 0.5704\n",
            "Epoch 9/10\n",
            "391/391 [==============================] - 36s 93ms/step - loss: 0.8356 - accuracy: 0.7104 - val_loss: 1.3377 - val_accuracy: 0.5678\n",
            "Epoch 10/10\n",
            "391/391 [==============================] - 36s 93ms/step - loss: 0.7808 - accuracy: 0.7304 - val_loss: 1.2059 - val_accuracy: 0.6183\n"
          ]
        }
      ]
    },
    {
      "cell_type": "code",
      "source": [
        "from google.colab import drive\n",
        "drive.mount('/content/drive')"
      ],
      "metadata": {
        "colab": {
          "base_uri": "https://localhost:8080/"
        },
        "id": "cKFD7BGQwmMc",
        "outputId": "b6a4455b-dc40-4239-d771-f9121f6fcfeb"
      },
      "execution_count": 1,
      "outputs": [
        {
          "output_type": "stream",
          "name": "stdout",
          "text": [
            "Mounted at /content/drive\n"
          ]
        }
      ]
    },
    {
      "cell_type": "code",
      "execution_count": 18,
      "metadata": {
        "id": "nRHD5of3B9ZN"
      },
      "outputs": [],
      "source": [
        "import pandas as pd\n",
        "\n",
        "\n",
        "history_resnet50_df = pd.DataFrame(history_resnet50.history) \n",
        "history_resnet50_df.to_csv('history_resnet50.csv', index=False)"
      ]
    },
    {
      "cell_type": "code",
      "source": [
        ""
      ],
      "metadata": {
        "id": "Nhu3kVITtv77"
      },
      "execution_count": null,
      "outputs": []
    }
  ],
  "metadata": {
    "accelerator": "GPU",
    "colab": {
      "collapsed_sections": [],
      "name": "RADAM.ipynb",
      "provenance": []
    },
    "hide_input": false,
    "kernelspec": {
      "display_name": "Python 3 (ipykernel)",
      "language": "python",
      "name": "python3"
    },
    "language_info": {
      "codemirror_mode": {
        "name": "ipython",
        "version": 3
      },
      "file_extension": ".py",
      "mimetype": "text/x-python",
      "name": "python",
      "nbconvert_exporter": "python",
      "pygments_lexer": "ipython3",
      "version": "3.8.12"
    },
    "toc": {
      "base_numbering": 1,
      "nav_menu": {},
      "number_sections": true,
      "sideBar": true,
      "skip_h1_title": false,
      "title_cell": "Table of Contents",
      "title_sidebar": "Contents",
      "toc_cell": false,
      "toc_position": {},
      "toc_section_display": true,
      "toc_window_display": false
    }
  },
  "nbformat": 4,
  "nbformat_minor": 0
}