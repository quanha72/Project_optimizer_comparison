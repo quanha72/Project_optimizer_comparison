{
  "nbformat": 4,
  "nbformat_minor": 0,
  "metadata": {
    "colab": {
      "name": "cprop.ipynb",
      "provenance": []
    },
    "kernelspec": {
      "name": "python3",
      "display_name": "Python 3"
    },
    "language_info": {
      "name": "python"
    },
    "accelerator": "GPU"
  },
  "cells": [
    {
      "cell_type": "code",
      "execution_count": 1,
      "metadata": {
        "colab": {
          "base_uri": "https://localhost:8080/"
        },
        "id": "zYddwiEwfu3p",
        "outputId": "30a9e340-265f-4746-8773-ec2040314726"
      },
      "outputs": [
        {
          "output_type": "stream",
          "name": "stdout",
          "text": [
            "/content/drive/MyDrive\n"
          ]
        }
      ],
      "source": [
        "%cd /content/drive/MyDrive"
      ]
    },
    {
      "cell_type": "code",
      "source": [
        "!git clone https://github.com/phizaz/cprop"
      ],
      "metadata": {
        "colab": {
          "base_uri": "https://localhost:8080/"
        },
        "id": "ve11p_OEf69U",
        "outputId": "d8c68c78-c9a8-41d9-b86d-08f7fdb01612"
      },
      "execution_count": 2,
      "outputs": [
        {
          "output_type": "stream",
          "name": "stdout",
          "text": [
            "Cloning into 'cprop'...\n",
            "remote: Enumerating objects: 142, done.\u001b[K\n",
            "remote: Counting objects: 100% (142/142), done.\u001b[K\n",
            "remote: Compressing objects: 100% (106/106), done.\u001b[K\n",
            "remote: Total 142 (delta 73), reused 92 (delta 32), pack-reused 0\u001b[K\n",
            "Receiving objects: 100% (142/142), 807.36 KiB | 11.37 MiB/s, done.\n",
            "Resolving deltas: 100% (73/73), done.\n"
          ]
        }
      ]
    },
    {
      "cell_type": "code",
      "source": [
        "%cd /content/drive/MyDrive/cprop/tf"
      ],
      "metadata": {
        "colab": {
          "base_uri": "https://localhost:8080/"
        },
        "id": "kJoGUEo0f8vz",
        "outputId": "30012276-2e8b-474a-baa1-170f6ec691c8"
      },
      "execution_count": 2,
      "outputs": [
        {
          "output_type": "stream",
          "name": "stdout",
          "text": [
            "/content/drive/MyDrive/cprop/tf\n"
          ]
        }
      ]
    },
    {
      "cell_type": "code",
      "source": [
        "import tensorflow as tf\n",
        "from cprop_tf.cprop import CProp"
      ],
      "metadata": {
        "id": "cucOWibaf_Vu"
      },
      "execution_count": 3,
      "outputs": []
    },
    {
      "cell_type": "code",
      "source": [
        "from __future__ import absolute_import, division, print_function, unicode_literals\n",
        "\n",
        "import tensorflow as tf\n",
        "\n",
        "from tensorflow.keras import datasets, layers, models\n",
        "import matplotlib.pyplot as plt\n",
        "import numpy as np"
      ],
      "metadata": {
        "id": "3lwb4b0ogAog"
      },
      "execution_count": 4,
      "outputs": []
    },
    {
      "cell_type": "code",
      "source": [
        "(train_images, train_labels), (test_images, test_labels) = datasets.cifar10.load_data()\n",
        "train_images = train_images.astype(np.float32)\n",
        "test_images = test_images.astype(np.float32)\n",
        "train_images, test_images = train_images / 255.0, test_images / 255.0"
      ],
      "metadata": {
        "colab": {
          "base_uri": "https://localhost:8080/"
        },
        "id": "ByPIrhROgQiN",
        "outputId": "4e72b757-5e0d-4288-dcfe-4db6e97ca000"
      },
      "execution_count": 5,
      "outputs": [
        {
          "output_type": "stream",
          "name": "stdout",
          "text": [
            "Downloading data from https://www.cs.toronto.edu/~kriz/cifar-10-python.tar.gz\n",
            "170500096/170498071 [==============================] - 2s 0us/step\n",
            "170508288/170498071 [==============================] - 2s 0us/step\n"
          ]
        }
      ]
    },
    {
      "cell_type": "code",
      "source": [
        "def make_model():\n",
        "    model = models.Sequential()\n",
        "    model.add(layers.Conv2D(32, (3, 3), activation='relu', input_shape=(32, 32, 3)))\n",
        "    model.add(layers.MaxPooling2D((2, 2)))\n",
        "    model.add(layers.Conv2D(64, (3, 3), activation='relu'))\n",
        "    model.add(layers.MaxPooling2D((2, 2)))\n",
        "    model.add(layers.Conv2D(64, (3, 3), activation='relu'))\n",
        "    model.add(layers.Flatten())\n",
        "    model.add(layers.Dense(64, activation='relu'))\n",
        "    model.add(layers.Dense(10, activation='softmax'))\n",
        "    return model"
      ],
      "metadata": {
        "id": "DKI0J0SJgSM5"
      },
      "execution_count": 6,
      "outputs": []
    },
    {
      "cell_type": "code",
      "source": [
        "def run(use_cprop):\n",
        "    opt = tf.keras.optimizers.Adam(lr=1e-3)\n",
        "    if use_cprop:\n",
        "        opt = CProp(opt, beta=0.999, c=1, cdf='bft')\n",
        "\n",
        "    model = make_model()\n",
        "    model.compile(optimizer=opt,\n",
        "                  loss='sparse_categorical_crossentropy',\n",
        "                  metrics=['accuracy'])\n",
        "\n",
        "    return model.fit(train_images,\n",
        "                     train_labels,\n",
        "                     batch_size=128,\n",
        "                     epochs=25,\n",
        "                     validation_data=(test_images, test_labels))"
      ],
      "metadata": {
        "id": "LwGFMchOgUV3"
      },
      "execution_count": 9,
      "outputs": []
    },
    {
      "cell_type": "code",
      "source": [
        "history = {}"
      ],
      "metadata": {
        "id": "codEZK0MgVsA"
      },
      "execution_count": 10,
      "outputs": []
    },
    {
      "cell_type": "code",
      "source": [
        "import time \n",
        "start = time.time()\n",
        "for use_cprop in [True]:\n",
        "    history[use_cprop] = run(use_cprop)\n",
        "print('training time : ',time.time()-start)"
      ],
      "metadata": {
        "colab": {
          "base_uri": "https://localhost:8080/"
        },
        "id": "4ZmEJiABgZlx",
        "outputId": "2a805b9b-5566-4368-b918-1ae82fbbb1b4"
      },
      "execution_count": 11,
      "outputs": [
        {
          "output_type": "stream",
          "name": "stderr",
          "text": [
            "/usr/local/lib/python3.7/dist-packages/keras/optimizer_v2/adam.py:105: UserWarning: The `lr` argument is deprecated, use `learning_rate` instead.\n",
            "  super(Adam, self).__init__(name, **kwargs)\n"
          ]
        },
        {
          "output_type": "stream",
          "name": "stdout",
          "text": [
            "Epoch 1/25\n",
            "391/391 [==============================] - 20s 21ms/step - loss: 1.6632 - accuracy: 0.3916 - val_loss: 1.3733 - val_accuracy: 0.5037\n",
            "Epoch 2/25\n",
            "391/391 [==============================] - 7s 18ms/step - loss: 1.2872 - accuracy: 0.5386 - val_loss: 1.2072 - val_accuracy: 0.5700\n",
            "Epoch 3/25\n",
            "391/391 [==============================] - 7s 19ms/step - loss: 1.1337 - accuracy: 0.6003 - val_loss: 1.0849 - val_accuracy: 0.6190\n",
            "Epoch 4/25\n",
            "391/391 [==============================] - 7s 19ms/step - loss: 1.0324 - accuracy: 0.6386 - val_loss: 1.0628 - val_accuracy: 0.6268\n",
            "Epoch 5/25\n",
            "391/391 [==============================] - 7s 18ms/step - loss: 0.9576 - accuracy: 0.6640 - val_loss: 1.0039 - val_accuracy: 0.6479\n",
            "Epoch 6/25\n",
            "391/391 [==============================] - 7s 18ms/step - loss: 0.8969 - accuracy: 0.6875 - val_loss: 0.9323 - val_accuracy: 0.6759\n",
            "Epoch 7/25\n",
            "391/391 [==============================] - 7s 18ms/step - loss: 0.8436 - accuracy: 0.7043 - val_loss: 0.9045 - val_accuracy: 0.6862\n",
            "Epoch 8/25\n",
            "391/391 [==============================] - 7s 17ms/step - loss: 0.7969 - accuracy: 0.7228 - val_loss: 0.8789 - val_accuracy: 0.6927\n",
            "Epoch 9/25\n",
            "391/391 [==============================] - 7s 18ms/step - loss: 0.7522 - accuracy: 0.7373 - val_loss: 0.8694 - val_accuracy: 0.6987\n",
            "Epoch 10/25\n",
            "391/391 [==============================] - 7s 18ms/step - loss: 0.7146 - accuracy: 0.7497 - val_loss: 0.8435 - val_accuracy: 0.7063\n",
            "Epoch 11/25\n",
            "391/391 [==============================] - 7s 18ms/step - loss: 0.6814 - accuracy: 0.7622 - val_loss: 0.8426 - val_accuracy: 0.7109\n",
            "Epoch 12/25\n",
            "391/391 [==============================] - 7s 17ms/step - loss: 0.6452 - accuracy: 0.7756 - val_loss: 0.8356 - val_accuracy: 0.7125\n",
            "Epoch 13/25\n",
            "391/391 [==============================] - 7s 18ms/step - loss: 0.6137 - accuracy: 0.7881 - val_loss: 0.8296 - val_accuracy: 0.7181\n",
            "Epoch 14/25\n",
            "391/391 [==============================] - 7s 17ms/step - loss: 0.5833 - accuracy: 0.7955 - val_loss: 0.8177 - val_accuracy: 0.7223\n",
            "Epoch 15/25\n",
            "391/391 [==============================] - 7s 18ms/step - loss: 0.5541 - accuracy: 0.8080 - val_loss: 0.8217 - val_accuracy: 0.7263\n",
            "Epoch 16/25\n",
            "391/391 [==============================] - 7s 17ms/step - loss: 0.5268 - accuracy: 0.8170 - val_loss: 0.8454 - val_accuracy: 0.7194\n",
            "Epoch 17/25\n",
            "391/391 [==============================] - 7s 18ms/step - loss: 0.5018 - accuracy: 0.8255 - val_loss: 0.8471 - val_accuracy: 0.7277\n",
            "Epoch 18/25\n",
            "391/391 [==============================] - 7s 18ms/step - loss: 0.4759 - accuracy: 0.8362 - val_loss: 0.8494 - val_accuracy: 0.7263\n",
            "Epoch 19/25\n",
            "391/391 [==============================] - 7s 17ms/step - loss: 0.4498 - accuracy: 0.8443 - val_loss: 0.8659 - val_accuracy: 0.7261\n",
            "Epoch 20/25\n",
            "391/391 [==============================] - 7s 18ms/step - loss: 0.4248 - accuracy: 0.8537 - val_loss: 0.9033 - val_accuracy: 0.7256\n",
            "Epoch 21/25\n",
            "391/391 [==============================] - 7s 19ms/step - loss: 0.4004 - accuracy: 0.8628 - val_loss: 0.9108 - val_accuracy: 0.7265\n",
            "Epoch 22/25\n",
            "391/391 [==============================] - 8s 19ms/step - loss: 0.3794 - accuracy: 0.8699 - val_loss: 0.9214 - val_accuracy: 0.7233\n",
            "Epoch 23/25\n",
            "391/391 [==============================] - 7s 19ms/step - loss: 0.3549 - accuracy: 0.8775 - val_loss: 0.9647 - val_accuracy: 0.7235\n",
            "Epoch 24/25\n",
            "391/391 [==============================] - 7s 19ms/step - loss: 0.3285 - accuracy: 0.8886 - val_loss: 0.9889 - val_accuracy: 0.7258\n",
            "Epoch 25/25\n",
            "391/391 [==============================] - 7s 18ms/step - loss: 0.3099 - accuracy: 0.8950 - val_loss: 1.0295 - val_accuracy: 0.7210\n",
            "training time :  208.6823000907898\n"
          ]
        }
      ]
    },
    {
      "cell_type": "code",
      "source": [
        "for use_cprop in [True, False]:\n",
        "    name = 'cprop' if use_cprop else 'normal'\n",
        "    plt.plot(history[use_cprop].history['accuracy'], label=f'acc_{name}')\n",
        "    plt.plot(history[use_cprop].history['val_accuracy'], label=f'val_{name}')\n",
        "    plt.xlabel('Epoch')\n",
        "    plt.ylabel('Accuracy')\n",
        "    plt.ylim([0.5, 1])\n",
        "    plt.legend(loc='lower right')\n",
        "    \n",
        "plt.savefig('cifar10.png')"
      ],
      "metadata": {
        "colab": {
          "base_uri": "https://localhost:8080/",
          "height": 283
        },
        "id": "8kIQp7ClgqAd",
        "outputId": "10514bc9-a4a7-4df2-e12c-c79dde087f11"
      },
      "execution_count": 10,
      "outputs": [
        {
          "output_type": "display_data",
          "data": {
            "image/png": "[encoded data removed]",
            "text/plain": [
              "<Figure size 432x288 with 1 Axes>"
            ]
          },
          "metadata": {
            "needs_background": "light"
          }
        }
      ]
    },
    {
      "cell_type": "code",
      "source": [
        "history"
      ],
      "metadata": {
        "colab": {
          "base_uri": "https://localhost:8080/"
        },
        "id": "IGWfSzAbUnhz",
        "outputId": "e9b3dbfa-e604-4070-e24d-705bcdf7a399"
      },
      "execution_count": 12,
      "outputs": [
        {
          "output_type": "execute_result",
          "data": {
            "text/plain": [
              "{False: <keras.callbacks.History at 0x7fc711db2f10>,\n",
              " True: <keras.callbacks.History at 0x7fc78a258690>}"
            ]
          },
          "metadata": {},
          "execution_count": 12
        }
      ]
    },
    {
      "cell_type": "code",
      "source": [
        "import pandas as pd\n",
        "\n",
        "history_df = pd.DataFrame(history[True].history) \n",
        "history_df.to_csv('cprop_basicdnn.csv', index=False)"
      ],
      "metadata": {
        "id": "j0tGk7wJULsP"
      },
      "execution_count": 17,
      "outputs": []
    },
    {
      "cell_type": "code",
      "source": [
        "history_df"
      ],
      "metadata": {
        "colab": {
          "base_uri": "https://localhost:8080/",
          "height": 833
        },
        "id": "JAayQXflVScj",
        "outputId": "1bb83ee3-0b7c-4592-e94a-7469795ad038"
      },
      "execution_count": 18,
      "outputs": [
        {
          "output_type": "execute_result",
          "data": {
            "text/html": [
              "\n",
              "  <div id=\"df-552474d6-b16f-4f08-8236-6af818f51afc\">\n",
              "    <div class=\"colab-df-container\">\n",
              "      <div>\n",
              "<style scoped>\n",
              "    .dataframe tbody tr th:only-of-type {\n",
              "        vertical-align: middle;\n",
              "    }\n",
              "\n",
              "    .dataframe tbody tr th {\n",
              "        vertical-align: top;\n",
              "    }\n",
              "\n",
              "    .dataframe thead th {\n",
              "        text-align: right;\n",
              "    }\n",
              "</style>\n",
              "<table border=\"1\" class=\"dataframe\">\n",
              "  <thead>\n",
              "    <tr style=\"text-align: right;\">\n",
              "      <th></th>\n",
              "      <th>loss</th>\n",
              "      <th>accuracy</th>\n",
              "      <th>val_loss</th>\n",
              "      <th>val_accuracy</th>\n",
              "    </tr>\n",
              "  </thead>\n",
              "  <tbody>\n",
              "    <tr>\n",
              "      <th>0</th>\n",
              "      <td>1.494941</td>\n",
              "      <td>0.45568</td>\n",
              "      <td>1.219055</td>\n",
              "      <td>0.5600</td>\n",
              "    </tr>\n",
              "    <tr>\n",
              "      <th>1</th>\n",
              "      <td>1.104726</td>\n",
              "      <td>0.60766</td>\n",
              "      <td>1.016620</td>\n",
              "      <td>0.6340</td>\n",
              "    </tr>\n",
              "    <tr>\n",
              "      <th>2</th>\n",
              "      <td>0.930906</td>\n",
              "      <td>0.67152</td>\n",
              "      <td>0.923148</td>\n",
              "      <td>0.6804</td>\n",
              "    </tr>\n",
              "    <tr>\n",
              "      <th>3</th>\n",
              "      <td>0.812467</td>\n",
              "      <td>0.71670</td>\n",
              "      <td>0.866468</td>\n",
              "      <td>0.7021</td>\n",
              "    </tr>\n",
              "    <tr>\n",
              "      <th>4</th>\n",
              "      <td>0.728208</td>\n",
              "      <td>0.74530</td>\n",
              "      <td>0.860554</td>\n",
              "      <td>0.7053</td>\n",
              "    </tr>\n",
              "    <tr>\n",
              "      <th>5</th>\n",
              "      <td>0.662431</td>\n",
              "      <td>0.76802</td>\n",
              "      <td>0.808398</td>\n",
              "      <td>0.7244</td>\n",
              "    </tr>\n",
              "    <tr>\n",
              "      <th>6</th>\n",
              "      <td>0.605941</td>\n",
              "      <td>0.78924</td>\n",
              "      <td>0.803267</td>\n",
              "      <td>0.7332</td>\n",
              "    </tr>\n",
              "    <tr>\n",
              "      <th>7</th>\n",
              "      <td>0.558097</td>\n",
              "      <td>0.80434</td>\n",
              "      <td>0.797327</td>\n",
              "      <td>0.7356</td>\n",
              "    </tr>\n",
              "    <tr>\n",
              "      <th>8</th>\n",
              "      <td>0.508520</td>\n",
              "      <td>0.82154</td>\n",
              "      <td>0.821468</td>\n",
              "      <td>0.7374</td>\n",
              "    </tr>\n",
              "    <tr>\n",
              "      <th>9</th>\n",
              "      <td>0.466312</td>\n",
              "      <td>0.83552</td>\n",
              "      <td>0.832835</td>\n",
              "      <td>0.7378</td>\n",
              "    </tr>\n",
              "    <tr>\n",
              "      <th>10</th>\n",
              "      <td>0.420204</td>\n",
              "      <td>0.85386</td>\n",
              "      <td>0.882543</td>\n",
              "      <td>0.7356</td>\n",
              "    </tr>\n",
              "    <tr>\n",
              "      <th>11</th>\n",
              "      <td>0.386473</td>\n",
              "      <td>0.86518</td>\n",
              "      <td>0.906193</td>\n",
              "      <td>0.7356</td>\n",
              "    </tr>\n",
              "    <tr>\n",
              "      <th>12</th>\n",
              "      <td>0.346368</td>\n",
              "      <td>0.87890</td>\n",
              "      <td>0.953837</td>\n",
              "      <td>0.7287</td>\n",
              "    </tr>\n",
              "    <tr>\n",
              "      <th>13</th>\n",
              "      <td>0.311930</td>\n",
              "      <td>0.89274</td>\n",
              "      <td>0.975023</td>\n",
              "      <td>0.7328</td>\n",
              "    </tr>\n",
              "    <tr>\n",
              "      <th>14</th>\n",
              "      <td>0.279628</td>\n",
              "      <td>0.90142</td>\n",
              "      <td>1.073348</td>\n",
              "      <td>0.7343</td>\n",
              "    </tr>\n",
              "    <tr>\n",
              "      <th>15</th>\n",
              "      <td>0.252106</td>\n",
              "      <td>0.91070</td>\n",
              "      <td>1.154911</td>\n",
              "      <td>0.7263</td>\n",
              "    </tr>\n",
              "    <tr>\n",
              "      <th>16</th>\n",
              "      <td>0.226448</td>\n",
              "      <td>0.92086</td>\n",
              "      <td>1.262877</td>\n",
              "      <td>0.7180</td>\n",
              "    </tr>\n",
              "    <tr>\n",
              "      <th>17</th>\n",
              "      <td>0.198907</td>\n",
              "      <td>0.92976</td>\n",
              "      <td>1.333228</td>\n",
              "      <td>0.7227</td>\n",
              "    </tr>\n",
              "    <tr>\n",
              "      <th>18</th>\n",
              "      <td>0.185465</td>\n",
              "      <td>0.93470</td>\n",
              "      <td>1.522815</td>\n",
              "      <td>0.7072</td>\n",
              "    </tr>\n",
              "    <tr>\n",
              "      <th>19</th>\n",
              "      <td>0.162894</td>\n",
              "      <td>0.94170</td>\n",
              "      <td>1.556671</td>\n",
              "      <td>0.7130</td>\n",
              "    </tr>\n",
              "    <tr>\n",
              "      <th>20</th>\n",
              "      <td>0.149248</td>\n",
              "      <td>0.94716</td>\n",
              "      <td>1.625444</td>\n",
              "      <td>0.7138</td>\n",
              "    </tr>\n",
              "    <tr>\n",
              "      <th>21</th>\n",
              "      <td>0.144901</td>\n",
              "      <td>0.94760</td>\n",
              "      <td>1.730897</td>\n",
              "      <td>0.7145</td>\n",
              "    </tr>\n",
              "    <tr>\n",
              "      <th>22</th>\n",
              "      <td>0.124767</td>\n",
              "      <td>0.95628</td>\n",
              "      <td>1.794547</td>\n",
              "      <td>0.7143</td>\n",
              "    </tr>\n",
              "    <tr>\n",
              "      <th>23</th>\n",
              "      <td>0.126061</td>\n",
              "      <td>0.95576</td>\n",
              "      <td>1.913947</td>\n",
              "      <td>0.7145</td>\n",
              "    </tr>\n",
              "    <tr>\n",
              "      <th>24</th>\n",
              "      <td>0.111218</td>\n",
              "      <td>0.96096</td>\n",
              "      <td>1.968117</td>\n",
              "      <td>0.7180</td>\n",
              "    </tr>\n",
              "  </tbody>\n",
              "</table>\n",
              "</div>\n",
              "      <button class=\"colab-df-convert\" onclick=\"convertToInteractive('df-552474d6-b16f-4f08-8236-6af818f51afc')\"\n",
              "              title=\"Convert this dataframe to an interactive table.\"\n",
              "              style=\"display:none;\">\n",
              "        \n",
              "  <svg xmlns=\"http://www.w3.org/2000/svg\" height=\"24px\"viewBox=\"0 0 24 24\"\n",
              "       width=\"24px\">\n",
              "    <path d=\"M0 0h24v24H0V0z\" fill=\"none\"/>\n",
              "    <path d=\"M18.56 5.44l.94 2.06.94-2.06 2.06-.94-2.06-.94-.94-2.06-.94 2.06-2.06.94zm-11 1L8.5 8.5l.94-2.06 2.06-.94-2.06-.94L8.5 2.5l-.94 2.06-2.06.94zm10 10l.94 2.06.94-2.06 2.06-.94-2.06-.94-.94-2.06-.94 2.06-2.06.94z\"/><path d=\"M17.41 7.96l-1.37-1.37c-.4-.4-.92-.59-1.43-.59-.52 0-1.04.2-1.43.59L10.3 9.45l-7.72 7.72c-.78.78-.78 2.05 0 2.83L4 21.41c.39.39.9.59 1.41.59.51 0 1.02-.2 1.41-.59l7.78-7.78 2.81-2.81c.8-.78.8-2.07 0-2.86zM5.41 20L4 18.59l7.72-7.72 1.47 1.35L5.41 20z\"/>\n",
              "  </svg>\n",
              "      </button>\n",
              "      \n",
              "  <style>\n",
              "    .colab-df-container {\n",
              "      display:flex;\n",
              "      flex-wrap:wrap;\n",
              "      gap: 12px;\n",
              "    }\n",
              "\n",
              "    .colab-df-convert {\n",
              "      background-color: #E8F0FE;\n",
              "      border: none;\n",
              "      border-radius: 50%;\n",
              "      cursor: pointer;\n",
              "      display: none;\n",
              "      fill: #1967D2;\n",
              "      height: 32px;\n",
              "      padding: 0 0 0 0;\n",
              "      width: 32px;\n",
              "    }\n",
              "\n",
              "    .colab-df-convert:hover {\n",
              "      background-color: #E2EBFA;\n",
              "      box-shadow: 0px 1px 2px rgba(60, 64, 67, 0.3), 0px 1px 3px 1px rgba(60, 64, 67, 0.15);\n",
              "      fill: #174EA6;\n",
              "    }\n",
              "\n",
              "    [theme=dark] .colab-df-convert {\n",
              "      background-color: #3B4455;\n",
              "      fill: #D2E3FC;\n",
              "    }\n",
              "\n",
              "    [theme=dark] .colab-df-convert:hover {\n",
              "      background-color: #434B5C;\n",
              "      box-shadow: 0px 1px 3px 1px rgba(0, 0, 0, 0.15);\n",
              "      filter: drop-shadow(0px 1px 2px rgba(0, 0, 0, 0.3));\n",
              "      fill: #FFFFFF;\n",
              "    }\n",
              "  </style>\n",
              "\n",
              "      <script>\n",
              "        const buttonEl =\n",
              "          document.querySelector('#df-552474d6-b16f-4f08-8236-6af818f51afc button.colab-df-convert');\n",
              "        buttonEl.style.display =\n",
              "          google.colab.kernel.accessAllowed ? 'block' : 'none';\n",
              "\n",
              "        async function convertToInteractive(key) {\n",
              "          const element = document.querySelector('#df-552474d6-b16f-4f08-8236-6af818f51afc');\n",
              "          const dataTable =\n",
              "            await google.colab.kernel.invokeFunction('convertToInteractive',\n",
              "                                                     [key], {});\n",
              "          if (!dataTable) return;\n",
              "\n",
              "          const docLinkHtml = 'Like what you see? Visit the ' +\n",
              "            '<a target=\"_blank\" href=https://colab.research.google.com/notebooks/data_table.ipynb>data table notebook</a>'\n",
              "            + ' to learn more about interactive tables.';\n",
              "          element.innerHTML = '';\n",
              "          dataTable['output_type'] = 'display_data';\n",
              "          await google.colab.output.renderOutput(dataTable, element);\n",
              "          const docLink = document.createElement('div');\n",
              "          docLink.innerHTML = docLinkHtml;\n",
              "          element.appendChild(docLink);\n",
              "        }\n",
              "      </script>\n",
              "    </div>\n",
              "  </div>\n",
              "  "
            ],
            "text/plain": [
              "        loss  accuracy  val_loss  val_accuracy\n",
              "0   1.494941   0.45568  1.219055        0.5600\n",
              "1   1.104726   0.60766  1.016620        0.6340\n",
              "2   0.930906   0.67152  0.923148        0.6804\n",
              "3   0.812467   0.71670  0.866468        0.7021\n",
              "4   0.728208   0.74530  0.860554        0.7053\n",
              "5   0.662431   0.76802  0.808398        0.7244\n",
              "6   0.605941   0.78924  0.803267        0.7332\n",
              "7   0.558097   0.80434  0.797327        0.7356\n",
              "8   0.508520   0.82154  0.821468        0.7374\n",
              "9   0.466312   0.83552  0.832835        0.7378\n",
              "10  0.420204   0.85386  0.882543        0.7356\n",
              "11  0.386473   0.86518  0.906193        0.7356\n",
              "12  0.346368   0.87890  0.953837        0.7287\n",
              "13  0.311930   0.89274  0.975023        0.7328\n",
              "14  0.279628   0.90142  1.073348        0.7343\n",
              "15  0.252106   0.91070  1.154911        0.7263\n",
              "16  0.226448   0.92086  1.262877        0.7180\n",
              "17  0.198907   0.92976  1.333228        0.7227\n",
              "18  0.185465   0.93470  1.522815        0.7072\n",
              "19  0.162894   0.94170  1.556671        0.7130\n",
              "20  0.149248   0.94716  1.625444        0.7138\n",
              "21  0.144901   0.94760  1.730897        0.7145\n",
              "22  0.124767   0.95628  1.794547        0.7143\n",
              "23  0.126061   0.95576  1.913947        0.7145\n",
              "24  0.111218   0.96096  1.968117        0.7180"
            ]
          },
          "metadata": {},
          "execution_count": 18
        }
      ]
    },
    {
      "cell_type": "markdown",
      "source": [
        "###Resnet-50"
      ],
      "metadata": {
        "id": "h0o_AsIhhyz-"
      }
    },
    {
      "cell_type": "code",
      "source": [
        "import cv2\n",
        "import numpy as np\n",
        "import os\n",
        "from keras.preprocessing.image import ImageDataGenerator\n",
        "from keras import backend as K\n",
        "import keras\n",
        "from keras.models import Sequential, Model,load_model\n",
        "from tensorflow.keras.optimizers import SGD\n",
        "from keras.callbacks import EarlyStopping,ModelCheckpoint\n",
        "from google.colab.patches import cv2_imshow\n",
        "from keras.layers import Input, Add, Dense, Activation, ZeroPadding2D, BatchNormalization, Flatten, Conv2D, AveragePooling2D, MaxPooling2D, GlobalMaxPooling2D,MaxPool2D\n",
        "from keras.preprocessing import image\n",
        "from keras.initializers import glorot_uniform"
      ],
      "metadata": {
        "id": "QJb7-w9CYq2A"
      },
      "execution_count": 6,
      "outputs": []
    },
    {
      "cell_type": "code",
      "source": [
        "def identity_block(X, f, filters, stage, block):\n",
        "   \n",
        "    conv_name_base = 'res' + str(stage) + block + '_branch'\n",
        "    bn_name_base = 'bn' + str(stage) + block + '_branch'\n",
        "    F1, F2, F3 = filters\n",
        "\n",
        "    X_shortcut = X\n",
        "   \n",
        "    X = Conv2D(filters=F1, kernel_size=(1, 1), strides=(1, 1), padding='valid', name=conv_name_base + '2a', kernel_initializer=glorot_uniform(seed=0))(X)\n",
        "    X = BatchNormalization(axis=3, name=bn_name_base + '2a')(X)\n",
        "    X = Activation('relu')(X)\n",
        "\n",
        "    X = Conv2D(filters=F2, kernel_size=(f, f), strides=(1, 1), padding='same', name=conv_name_base + '2b', kernel_initializer=glorot_uniform(seed=0))(X)\n",
        "    X = BatchNormalization(axis=3, name=bn_name_base + '2b')(X)\n",
        "    X = Activation('relu')(X)\n",
        "\n",
        "    X = Conv2D(filters=F3, kernel_size=(1, 1), strides=(1, 1), padding='valid', name=conv_name_base + '2c', kernel_initializer=glorot_uniform(seed=0))(X)\n",
        "    X = BatchNormalization(axis=3, name=bn_name_base + '2c')(X)\n",
        "\n",
        "    X = Add()([X, X_shortcut])# SKIP Connection\n",
        "    X = Activation('relu')(X)\n",
        "\n",
        "    return X"
      ],
      "metadata": {
        "id": "-NDV9ArAhzyF"
      },
      "execution_count": 7,
      "outputs": []
    },
    {
      "cell_type": "code",
      "source": [
        "def convolutional_block(X, f, filters, stage, block, s=2):\n",
        "   \n",
        "    conv_name_base = 'res' + str(stage) + block + '_branch'\n",
        "    bn_name_base = 'bn' + str(stage) + block + '_branch'\n",
        "\n",
        "    F1, F2, F3 = filters\n",
        "\n",
        "    X_shortcut = X\n",
        "\n",
        "    X = Conv2D(filters=F1, kernel_size=(1, 1), strides=(s, s), padding='valid', name=conv_name_base + '2a', kernel_initializer=glorot_uniform(seed=0))(X)\n",
        "    X = BatchNormalization(axis=3, name=bn_name_base + '2a')(X)\n",
        "    X = Activation('relu')(X)\n",
        "\n",
        "    X = Conv2D(filters=F2, kernel_size=(f, f), strides=(1, 1), padding='same', name=conv_name_base + '2b', kernel_initializer=glorot_uniform(seed=0))(X)\n",
        "    X = BatchNormalization(axis=3, name=bn_name_base + '2b')(X)\n",
        "    X = Activation('relu')(X)\n",
        "\n",
        "    X = Conv2D(filters=F3, kernel_size=(1, 1), strides=(1, 1), padding='valid', name=conv_name_base + '2c', kernel_initializer=glorot_uniform(seed=0))(X)\n",
        "    X = BatchNormalization(axis=3, name=bn_name_base + '2c')(X)\n",
        "\n",
        "    X_shortcut = Conv2D(filters=F3, kernel_size=(1, 1), strides=(s, s), padding='valid', name=conv_name_base + '1', kernel_initializer=glorot_uniform(seed=0))(X_shortcut)\n",
        "    X_shortcut = BatchNormalization(axis=3, name=bn_name_base + '1')(X_shortcut)\n",
        "\n",
        "    X = Add()([X, X_shortcut])\n",
        "    X = Activation('relu')(X)\n",
        "\n",
        "    return X"
      ],
      "metadata": {
        "id": "sDHEZiG4YlLc"
      },
      "execution_count": 8,
      "outputs": []
    },
    {
      "cell_type": "code",
      "source": [
        "def ResNet50(input_shape=(224, 224, 3)):\n",
        "\n",
        "    X_input = Input(input_shape)\n",
        "\n",
        "    X = ZeroPadding2D((3, 3))(X_input)\n",
        "\n",
        "    X = Conv2D(64, (7, 7), strides=(2, 2), name='conv1', kernel_initializer=glorot_uniform(seed=0))(X)\n",
        "    X = BatchNormalization(axis=3, name='bn_conv1')(X)\n",
        "    X = Activation('relu')(X)\n",
        "    X = MaxPooling2D((3, 3), strides=(2, 2))(X)\n",
        "\n",
        "    X = convolutional_block(X, f=3, filters=[64, 64, 256], stage=2, block='a', s=1)\n",
        "    X = identity_block(X, 3, [64, 64, 256], stage=2, block='b')\n",
        "    X = identity_block(X, 3, [64, 64, 256], stage=2, block='c')\n",
        "\n",
        "\n",
        "    X = convolutional_block(X, f=3, filters=[128, 128, 512], stage=3, block='a', s=2)\n",
        "    X = identity_block(X, 3, [128, 128, 512], stage=3, block='b')\n",
        "    X = identity_block(X, 3, [128, 128, 512], stage=3, block='c')\n",
        "    X = identity_block(X, 3, [128, 128, 512], stage=3, block='d')\n",
        "\n",
        "    X = convolutional_block(X, f=3, filters=[256, 256, 1024], stage=4, block='a', s=2)\n",
        "    X = identity_block(X, 3, [256, 256, 1024], stage=4, block='b')\n",
        "    X = identity_block(X, 3, [256, 256, 1024], stage=4, block='c')\n",
        "    X = identity_block(X, 3, [256, 256, 1024], stage=4, block='d')\n",
        "    X = identity_block(X, 3, [256, 256, 1024], stage=4, block='e')\n",
        "    X = identity_block(X, 3, [256, 256, 1024], stage=4, block='f')\n",
        "\n",
        "    X = X = convolutional_block(X, f=3, filters=[512, 512, 2048], stage=5, block='a', s=2)\n",
        "    X = identity_block(X, 3, [512, 512, 2048], stage=5, block='b')\n",
        "    X = identity_block(X, 3, [512, 512, 2048], stage=5, block='c')\n",
        "\n",
        "    X = AveragePooling2D(pool_size=(2, 2), padding='same')(X)\n",
        "    \n",
        "    model = Model(inputs=X_input, outputs=X, name='ResNet50')\n",
        "\n",
        "    return model"
      ],
      "metadata": {
        "id": "AJxnbWxxY2C3"
      },
      "execution_count": 9,
      "outputs": []
    },
    {
      "cell_type": "code",
      "source": [
        "base_model = ResNet50(input_shape=(32, 32, 3))\n",
        "headModel = base_model.output\n",
        "headModel = Flatten()(headModel)\n",
        "headModel=Dense(256, activation='relu', name='fc1',kernel_initializer=glorot_uniform(seed=0))(headModel)\n",
        "headModel=Dense(128, activation='relu', name='fc2',kernel_initializer=glorot_uniform(seed=0))(headModel)\n",
        "headModel = Dense(10,activation='sigmoid', name='fc3',kernel_initializer=glorot_uniform(seed=0))(headModel)"
      ],
      "metadata": {
        "id": "T7oFlvalaXeJ"
      },
      "execution_count": 10,
      "outputs": []
    },
    {
      "cell_type": "code",
      "source": [
        "model_resnet = Model(inputs=base_model.input, outputs=headModel)\n"
      ],
      "metadata": {
        "id": "VPmxQic-ajHY"
      },
      "execution_count": 11,
      "outputs": []
    },
    {
      "cell_type": "code",
      "source": [
        "def run(use_cprop):\n",
        "    opt = tf.keras.optimizers.Adam(lr=1e-3)\n",
        "    if use_cprop:\n",
        "        opt = CProp(opt, beta=0.999, c=1, cdf='bft')\n",
        "    \n",
        "    model_resnet.compile(optimizer=opt,\n",
        "                  loss='sparse_categorical_crossentropy',\n",
        "                  metrics=['accuracy'])\n",
        "\n",
        "    return model_resnet.fit(train_images,\n",
        "                     train_labels,\n",
        "                     batch_size=128,\n",
        "                     epochs=10,\n",
        "                     validation_data=(test_images, test_labels))"
      ],
      "metadata": {
        "id": "9tE-sSJymns0"
      },
      "execution_count": 18,
      "outputs": []
    },
    {
      "cell_type": "code",
      "source": [
        "history_resnet = {}"
      ],
      "metadata": {
        "id": "SlgS16uWnA4v"
      },
      "execution_count": 19,
      "outputs": []
    },
    {
      "cell_type": "code",
      "source": [
        "for use_cprop in [True]:\n",
        "    history_resnet[use_cprop] = run(use_cprop)"
      ],
      "metadata": {
        "colab": {
          "base_uri": "https://localhost:8080/"
        },
        "id": "m-KuasTTnP45",
        "outputId": "36585bd1-1a05-476e-a3a8-a3f9065b040a"
      },
      "execution_count": 20,
      "outputs": [
        {
          "output_type": "stream",
          "name": "stderr",
          "text": [
            "/usr/local/lib/python3.7/dist-packages/keras/optimizer_v2/adam.py:105: UserWarning: The `lr` argument is deprecated, use `learning_rate` instead.\n",
            "  super(Adam, self).__init__(name, **kwargs)\n"
          ]
        },
        {
          "output_type": "stream",
          "name": "stdout",
          "text": [
            "Epoch 1/10\n",
            "391/391 [==============================] - 260s 503ms/step - loss: 1.1697 - accuracy: 0.5833 - val_loss: 1.7023 - val_accuracy: 0.4966\n",
            "Epoch 2/10\n",
            "391/391 [==============================] - 194s 497ms/step - loss: 0.8486 - accuracy: 0.7024 - val_loss: 1.7012 - val_accuracy: 0.5236\n",
            "Epoch 3/10\n",
            "391/391 [==============================] - 195s 499ms/step - loss: 0.6515 - accuracy: 0.7730 - val_loss: 0.9849 - val_accuracy: 0.6939\n",
            "Epoch 4/10\n",
            "391/391 [==============================] - 195s 499ms/step - loss: 0.4784 - accuracy: 0.8335 - val_loss: 1.0581 - val_accuracy: 0.6854\n",
            "Epoch 5/10\n",
            "391/391 [==============================] - 195s 500ms/step - loss: 0.3416 - accuracy: 0.8815 - val_loss: 1.2430 - val_accuracy: 0.6681\n",
            "Epoch 6/10\n",
            "391/391 [==============================] - 195s 498ms/step - loss: 0.2356 - accuracy: 0.9197 - val_loss: 1.0647 - val_accuracy: 0.7201\n",
            "Epoch 7/10\n",
            "391/391 [==============================] - 194s 497ms/step - loss: 0.1621 - accuracy: 0.9452 - val_loss: 1.3721 - val_accuracy: 0.6914\n",
            "Epoch 8/10\n",
            "391/391 [==============================] - 195s 499ms/step - loss: 0.2054 - accuracy: 0.9302 - val_loss: 1.1412 - val_accuracy: 0.7262\n",
            "Epoch 9/10\n",
            "391/391 [==============================] - 195s 499ms/step - loss: 0.0958 - accuracy: 0.9677 - val_loss: 1.4672 - val_accuracy: 0.7045\n",
            "Epoch 10/10\n",
            "391/391 [==============================] - 195s 499ms/step - loss: 0.0824 - accuracy: 0.9711 - val_loss: 1.4349 - val_accuracy: 0.7228\n"
          ]
        }
      ]
    },
    {
      "cell_type": "code",
      "source": [
        "for use_cprop in [True]:\n",
        "    name = 'cprop' if use_cprop else 'normal'\n",
        "    plt.plot(history_resnet[use_cprop].history['accuracy'], label=f'acc_{name}')\n",
        "    plt.plot(history_resnet[use_cprop].history['val_accuracy'], label=f'val_{name}')\n",
        "    plt.xlabel('Epoch')\n",
        "    plt.ylabel('Accuracy')\n",
        "    plt.ylim([0.5, 1])\n",
        "    plt.legend(loc='lower right')\n",
        "    \n",
        "plt.savefig('cifar10.png')"
      ],
      "metadata": {
        "colab": {
          "base_uri": "https://localhost:8080/",
          "height": 283
        },
        "id": "vXa2FTFQnTnl",
        "outputId": "cbb8f5e7-e6a0-4732-ede2-bc3be4217fe4"
      },
      "execution_count": 22,
      "outputs": [
        {
          "output_type": "display_data",
          "data": {
            "image/png": "[encoded data removed]",
            "text/plain": [
              "<Figure size 432x288 with 1 Axes>"
            ]
          },
          "metadata": {
            "needs_background": "light"
          }
        }
      ]
    },
    {
      "cell_type": "code",
      "source": [
        "import pandas as pd\n",
        "\n",
        "history_resnet50 = pd.DataFrame(history_resnet[True].history) \n",
        "history_resnet50.to_csv('cprop_resnet50.csv', index=False)\n",
        "history_resnet50"
      ],
      "metadata": {
        "colab": {
          "base_uri": "https://localhost:8080/",
          "height": 363
        },
        "id": "320Q3unsn7g0",
        "outputId": "e300ee72-afd9-4bbb-fc3f-2e0afa26a24f"
      },
      "execution_count": 23,
      "outputs": [
        {
          "output_type": "execute_result",
          "data": {
            "text/html": [
              "\n",
              "  <div id=\"df-5343be7e-4154-444d-9589-b3b124da2972\">\n",
              "    <div class=\"colab-df-container\">\n",
              "      <div>\n",
              "<style scoped>\n",
              "    .dataframe tbody tr th:only-of-type {\n",
              "        vertical-align: middle;\n",
              "    }\n",
              "\n",
              "    .dataframe tbody tr th {\n",
              "        vertical-align: top;\n",
              "    }\n",
              "\n",
              "    .dataframe thead th {\n",
              "        text-align: right;\n",
              "    }\n",
              "</style>\n",
              "<table border=\"1\" class=\"dataframe\">\n",
              "  <thead>\n",
              "    <tr style=\"text-align: right;\">\n",
              "      <th></th>\n",
              "      <th>loss</th>\n",
              "      <th>accuracy</th>\n",
              "      <th>val_loss</th>\n",
              "      <th>val_accuracy</th>\n",
              "    </tr>\n",
              "  </thead>\n",
              "  <tbody>\n",
              "    <tr>\n",
              "      <th>0</th>\n",
              "      <td>1.169678</td>\n",
              "      <td>0.58326</td>\n",
              "      <td>1.702262</td>\n",
              "      <td>0.4966</td>\n",
              "    </tr>\n",
              "    <tr>\n",
              "      <th>1</th>\n",
              "      <td>0.848554</td>\n",
              "      <td>0.70242</td>\n",
              "      <td>1.701203</td>\n",
              "      <td>0.5236</td>\n",
              "    </tr>\n",
              "    <tr>\n",
              "      <th>2</th>\n",
              "      <td>0.651459</td>\n",
              "      <td>0.77298</td>\n",
              "      <td>0.984857</td>\n",
              "      <td>0.6939</td>\n",
              "    </tr>\n",
              "    <tr>\n",
              "      <th>3</th>\n",
              "      <td>0.478407</td>\n",
              "      <td>0.83348</td>\n",
              "      <td>1.058091</td>\n",
              "      <td>0.6854</td>\n",
              "    </tr>\n",
              "    <tr>\n",
              "      <th>4</th>\n",
              "      <td>0.341583</td>\n",
              "      <td>0.88148</td>\n",
              "      <td>1.243034</td>\n",
              "      <td>0.6681</td>\n",
              "    </tr>\n",
              "    <tr>\n",
              "      <th>5</th>\n",
              "      <td>0.235565</td>\n",
              "      <td>0.91974</td>\n",
              "      <td>1.064653</td>\n",
              "      <td>0.7201</td>\n",
              "    </tr>\n",
              "    <tr>\n",
              "      <th>6</th>\n",
              "      <td>0.162095</td>\n",
              "      <td>0.94520</td>\n",
              "      <td>1.372149</td>\n",
              "      <td>0.6914</td>\n",
              "    </tr>\n",
              "    <tr>\n",
              "      <th>7</th>\n",
              "      <td>0.205381</td>\n",
              "      <td>0.93020</td>\n",
              "      <td>1.141227</td>\n",
              "      <td>0.7262</td>\n",
              "    </tr>\n",
              "    <tr>\n",
              "      <th>8</th>\n",
              "      <td>0.095814</td>\n",
              "      <td>0.96766</td>\n",
              "      <td>1.467162</td>\n",
              "      <td>0.7045</td>\n",
              "    </tr>\n",
              "    <tr>\n",
              "      <th>9</th>\n",
              "      <td>0.082387</td>\n",
              "      <td>0.97114</td>\n",
              "      <td>1.434852</td>\n",
              "      <td>0.7228</td>\n",
              "    </tr>\n",
              "  </tbody>\n",
              "</table>\n",
              "</div>\n",
              "      <button class=\"colab-df-convert\" onclick=\"convertToInteractive('df-5343be7e-4154-444d-9589-b3b124da2972')\"\n",
              "              title=\"Convert this dataframe to an interactive table.\"\n",
              "              style=\"display:none;\">\n",
              "        \n",
              "  <svg xmlns=\"http://www.w3.org/2000/svg\" height=\"24px\"viewBox=\"0 0 24 24\"\n",
              "       width=\"24px\">\n",
              "    <path d=\"M0 0h24v24H0V0z\" fill=\"none\"/>\n",
              "    <path d=\"M18.56 5.44l.94 2.06.94-2.06 2.06-.94-2.06-.94-.94-2.06-.94 2.06-2.06.94zm-11 1L8.5 8.5l.94-2.06 2.06-.94-2.06-.94L8.5 2.5l-.94 2.06-2.06.94zm10 10l.94 2.06.94-2.06 2.06-.94-2.06-.94-.94-2.06-.94 2.06-2.06.94z\"/><path d=\"M17.41 7.96l-1.37-1.37c-.4-.4-.92-.59-1.43-.59-.52 0-1.04.2-1.43.59L10.3 9.45l-7.72 7.72c-.78.78-.78 2.05 0 2.83L4 21.41c.39.39.9.59 1.41.59.51 0 1.02-.2 1.41-.59l7.78-7.78 2.81-2.81c.8-.78.8-2.07 0-2.86zM5.41 20L4 18.59l7.72-7.72 1.47 1.35L5.41 20z\"/>\n",
              "  </svg>\n",
              "      </button>\n",
              "      \n",
              "  <style>\n",
              "    .colab-df-container {\n",
              "      display:flex;\n",
              "      flex-wrap:wrap;\n",
              "      gap: 12px;\n",
              "    }\n",
              "\n",
              "    .colab-df-convert {\n",
              "      background-color: #E8F0FE;\n",
              "      border: none;\n",
              "      border-radius: 50%;\n",
              "      cursor: pointer;\n",
              "      display: none;\n",
              "      fill: #1967D2;\n",
              "      height: 32px;\n",
              "      padding: 0 0 0 0;\n",
              "      width: 32px;\n",
              "    }\n",
              "\n",
              "    .colab-df-convert:hover {\n",
              "      background-color: #E2EBFA;\n",
              "      box-shadow: 0px 1px 2px rgba(60, 64, 67, 0.3), 0px 1px 3px 1px rgba(60, 64, 67, 0.15);\n",
              "      fill: #174EA6;\n",
              "    }\n",
              "\n",
              "    [theme=dark] .colab-df-convert {\n",
              "      background-color: #3B4455;\n",
              "      fill: #D2E3FC;\n",
              "    }\n",
              "\n",
              "    [theme=dark] .colab-df-convert:hover {\n",
              "      background-color: #434B5C;\n",
              "      box-shadow: 0px 1px 3px 1px rgba(0, 0, 0, 0.15);\n",
              "      filter: drop-shadow(0px 1px 2px rgba(0, 0, 0, 0.3));\n",
              "      fill: #FFFFFF;\n",
              "    }\n",
              "  </style>\n",
              "\n",
              "      <script>\n",
              "        const buttonEl =\n",
              "          document.querySelector('#df-5343be7e-4154-444d-9589-b3b124da2972 button.colab-df-convert');\n",
              "        buttonEl.style.display =\n",
              "          google.colab.kernel.accessAllowed ? 'block' : 'none';\n",
              "\n",
              "        async function convertToInteractive(key) {\n",
              "          const element = document.querySelector('#df-5343be7e-4154-444d-9589-b3b124da2972');\n",
              "          const dataTable =\n",
              "            await google.colab.kernel.invokeFunction('convertToInteractive',\n",
              "                                                     [key], {});\n",
              "          if (!dataTable) return;\n",
              "\n",
              "          const docLinkHtml = 'Like what you see? Visit the ' +\n",
              "            '<a target=\"_blank\" href=https://colab.research.google.com/notebooks/data_table.ipynb>data table notebook</a>'\n",
              "            + ' to learn more about interactive tables.';\n",
              "          element.innerHTML = '';\n",
              "          dataTable['output_type'] = 'display_data';\n",
              "          await google.colab.output.renderOutput(dataTable, element);\n",
              "          const docLink = document.createElement('div');\n",
              "          docLink.innerHTML = docLinkHtml;\n",
              "          element.appendChild(docLink);\n",
              "        }\n",
              "      </script>\n",
              "    </div>\n",
              "  </div>\n",
              "  "
            ],
            "text/plain": [
              "       loss  accuracy  val_loss  val_accuracy\n",
              "0  1.169678   0.58326  1.702262        0.4966\n",
              "1  0.848554   0.70242  1.701203        0.5236\n",
              "2  0.651459   0.77298  0.984857        0.6939\n",
              "3  0.478407   0.83348  1.058091        0.6854\n",
              "4  0.341583   0.88148  1.243034        0.6681\n",
              "5  0.235565   0.91974  1.064653        0.7201\n",
              "6  0.162095   0.94520  1.372149        0.6914\n",
              "7  0.205381   0.93020  1.141227        0.7262\n",
              "8  0.095814   0.96766  1.467162        0.7045\n",
              "9  0.082387   0.97114  1.434852        0.7228"
            ]
          },
          "metadata": {},
          "execution_count": 23
        }
      ]
    },
    {
      "cell_type": "code",
      "source": [
        ""
      ],
      "metadata": {
        "id": "DtNUOGRMn6z1"
      },
      "execution_count": null,
      "outputs": []
    }
  ]
}